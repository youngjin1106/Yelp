{
 "cells": [
  {
   "cell_type": "code",
   "execution_count": 1,
   "id": "4df61169",
   "metadata": {},
   "outputs": [],
   "source": [
    "# Standard Imports\n",
    "import numpy as np\n",
    "import pandas as pd\n",
    "import matplotlib.pyplot as plt\n",
    "import seaborn as sns\n",
    "import os, json, math, time\n",
    "from yelpapi import YelpAPI\n",
    "from tqdm.notebook import tqdm_notebook\n",
    "\n",
    "# Load API Credentials\n",
    "with open('/Users/youngjinjang/Desktop/dojo-env-setup/docs/Yelp assignment/Yelp/yelp_api.json') as f:   #use your path here!\n",
    "    login = json.load(f)\n",
    "    \n",
    "# Instantiate YelpAPI Variable\n",
    "yelp_api = YelpAPI(login['api-key'], timeout_s=5.0)\n"
   ]
  },
  {
   "cell_type": "code",
   "execution_count": 2,
   "id": "ace6936a",
   "metadata": {},
   "outputs": [
    {
     "name": "stdout",
     "output_type": "stream",
     "text": [
      "Help on method search_query in module yelpapi.yelpapi:\n",
      "\n",
      "search_query(**kwargs) method of yelpapi.yelpapi.YelpAPI instance\n",
      "    Query the Yelp Search API.\n",
      "    \n",
      "    documentation: https://www.yelp.com/developers/documentation/v3/business_search\n",
      "    \n",
      "    required parameters:\n",
      "        * one of either:\n",
      "            * location - text specifying a location to search for\n",
      "            * latitude and longitude\n",
      "\n"
     ]
    }
   ],
   "source": [
    "help(yelp_api.search_query)"
   ]
  },
  {
   "cell_type": "code",
   "execution_count": 3,
   "id": "758626f7",
   "metadata": {},
   "outputs": [],
   "source": [
    "# set our API call parameters \n",
    "LOCATION = 'NY,NY'\n",
    "TERM = 'Sushi'"
   ]
  },
  {
   "cell_type": "code",
   "execution_count": 4,
   "id": "0353c6cc",
   "metadata": {},
   "outputs": [
    {
     "data": {
      "text/plain": [
       "'data/results_in_progress_NY_sushi.json'"
      ]
     },
     "execution_count": 4,
     "metadata": {},
     "output_type": "execute_result"
    }
   ],
   "source": [
    "# Directory to save results from api calls\n",
    "JSON_FILE = \"data/results_in_progress_NY_sushi.json\"\n",
    "JSON_FILE"
   ]
  },
  {
   "cell_type": "code",
   "execution_count": 5,
   "id": "a407f1f7",
   "metadata": {},
   "outputs": [
    {
     "name": "stdout",
     "output_type": "stream",
     "text": [
      "[i] data/results_in_progress_NY_sushi.json already exists.\n"
     ]
    }
   ],
   "source": [
    "## Check if JSON_FILE exists\n",
    "file_exists = os.path.isfile(JSON_FILE)\n",
    "## If it does not exist: \n",
    "if file_exists == False:\n",
    "    \n",
    "    ## CREATE ANY NEEDED FOLDERS\n",
    "    # Get the Folder Name only\n",
    "    folder = os.path.dirname(JSON_FILE)\n",
    "    ## If JSON_FILE included a folder:\n",
    "    if len(folder)>0:\n",
    "        # create the folder\n",
    "        os.makedirs(folder,exist_ok=True)\n",
    "        \n",
    "        \n",
    "    ## INFORM USER AND SAVE EMPTY LIST\n",
    "    print(f'[i] {JSON_FILE} not found. Saving empty list to file.')\n",
    "    \n",
    "    \n",
    "    # save an empty list\n",
    "    with open(JSON_FILE,'w') as f:\n",
    "        json.dump([],f)  \n",
    "# If it exists, inform user\n",
    "else:\n",
    "    print(f\"[i] {JSON_FILE} already exists.\")"
   ]
  },
  {
   "cell_type": "code",
   "execution_count": 6,
   "id": "9f500861",
   "metadata": {},
   "outputs": [
    {
     "name": "stdout",
     "output_type": "stream",
     "text": [
      "- 60 previous results found.\n"
     ]
    }
   ],
   "source": [
    "## Load previous results and use len of results for offset\n",
    "with open(JSON_FILE,'r') as f:\n",
    "    previous_results = json.load(f)\n",
    "    \n",
    "## set offset based on previous results\n",
    "n_results = len(previous_results)\n",
    "print(f'- {n_results} previous results found.')"
   ]
  },
  {
   "cell_type": "code",
   "execution_count": 7,
   "id": "4e7e2027",
   "metadata": {},
   "outputs": [
    {
     "data": {
      "text/plain": [
       "dict_keys(['businesses', 'total', 'region'])"
      ]
     },
     "execution_count": 7,
     "metadata": {},
     "output_type": "execute_result"
    }
   ],
   "source": [
    "# use our yelp_api variable's search_query method to perform our API call\n",
    "results = yelp_api.search_query(location=LOCATION,\n",
    "                                term=TERM,\n",
    "                               offset=n_results)\n",
    "results.keys()"
   ]
  },
  {
   "cell_type": "code",
   "execution_count": 8,
   "id": "91b54c51",
   "metadata": {},
   "outputs": [
    {
     "data": {
      "text/plain": [
       "4000"
      ]
     },
     "execution_count": 8,
     "metadata": {},
     "output_type": "execute_result"
    }
   ],
   "source": [
    "## How many results total?\n",
    "total_results = results['total']\n",
    "total_results"
   ]
  },
  {
   "cell_type": "code",
   "execution_count": 9,
   "id": "072318ae",
   "metadata": {},
   "outputs": [
    {
     "data": {
      "text/plain": [
       "20"
      ]
     },
     "execution_count": 9,
     "metadata": {},
     "output_type": "execute_result"
    }
   ],
   "source": [
    "## How many did we get the details for?\n",
    "results_per_page = len(results['businesses'])\n",
    "results_per_page"
   ]
  },
  {
   "cell_type": "code",
   "execution_count": 10,
   "id": "79e6e3ac",
   "metadata": {},
   "outputs": [
    {
     "data": {
      "text/plain": [
       "197"
      ]
     },
     "execution_count": 10,
     "metadata": {},
     "output_type": "execute_result"
    }
   ],
   "source": [
    "# Import additional packages for controlling our loop\n",
    "import time, math\n",
    "# Use math.ceil to round up for the total number of pages of results.\n",
    "n_pages = math.ceil((results['total']-n_results)/ results_per_page)\n",
    "n_pages"
   ]
  },
  {
   "cell_type": "code",
   "execution_count": 11,
   "id": "2f69fd0b",
   "metadata": {},
   "outputs": [],
   "source": [
    "# join new results with old list with extend and save to file\n",
    "previous_results.extend(results['businesses'])  \n",
    "with open(JSON_FILE,'w') as f:\n",
    "     json.dump(previous_results,f)"
   ]
  },
  {
   "cell_type": "code",
   "execution_count": 12,
   "id": "135331ec",
   "metadata": {},
   "outputs": [
    {
     "data": {
      "application/vnd.jupyter.widget-view+json": {
       "model_id": "88e9904343b44e278d7aec935f4c18cb",
       "version_major": 2,
       "version_minor": 0
      },
      "text/plain": [
       "  0%|          | 0/197 [00:00<?, ?it/s]"
      ]
     },
     "metadata": {},
     "output_type": "display_data"
    }
   ],
   "source": [
    "for i in tqdm_notebook(range(n_pages)):\n",
    "    # adds 200 ms pause\n",
    "    time.sleep(.2) "
   ]
  },
  {
   "cell_type": "code",
   "execution_count": 15,
   "id": "2f65a944",
   "metadata": {},
   "outputs": [
    {
     "data": {
      "application/vnd.jupyter.widget-view+json": {
       "model_id": "3c840a3e0e56408193659dd70807dc8e",
       "version_major": 2,
       "version_minor": 0
      },
      "text/plain": [
       "  0%|          | 0/197 [00:00<?, ?it/s]"
      ]
     },
     "metadata": {},
     "output_type": "display_data"
    },
    {
     "name": "stdout",
     "output_type": "stream",
     "text": [
      "Exceeded 1000 api calls. Stopping loop.\n"
     ]
    }
   ],
   "source": [
    "for i in tqdm_notebook(range(1,n_pages+1)):\n",
    "    \n",
    "    ## Read in results in progress file and check the length\n",
    "    with open(JSON_FILE, 'r') as f:\n",
    "        previous_results = json.load(f)\n",
    "        \n",
    "    ## save number of results for to use as offset\n",
    "    n_results = len(previous_results)\n",
    "    \n",
    "    if (n_results + results_per_page) > 1000:\n",
    "        print('Exceeded 1000 api calls. Stopping loop.')\n",
    "        break\n",
    "    \n",
    "    ## use n_results as the OFFSET \n",
    "    results = yelp_api.search_query(location=LOCATION, term=TERM, offset=n_results)    \n",
    "    \n",
    "    ## append new results and save to file\n",
    "    previous_results.extend(results['businesses'])\n",
    "    \n",
    "    # display(previous_results)\n",
    "    with open(JSON_FILE,'w') as f:\n",
    "        json.dump(previous_results,f)"
   ]
  },
  {
   "cell_type": "code",
   "execution_count": 16,
   "id": "915ea7bb",
   "metadata": {},
   "outputs": [
    {
     "data": {
      "text/html": [
       "<div>\n",
       "<style scoped>\n",
       "    .dataframe tbody tr th:only-of-type {\n",
       "        vertical-align: middle;\n",
       "    }\n",
       "\n",
       "    .dataframe tbody tr th {\n",
       "        vertical-align: top;\n",
       "    }\n",
       "\n",
       "    .dataframe thead th {\n",
       "        text-align: right;\n",
       "    }\n",
       "</style>\n",
       "<table border=\"1\" class=\"dataframe\">\n",
       "  <thead>\n",
       "    <tr style=\"text-align: right;\">\n",
       "      <th></th>\n",
       "      <th>id</th>\n",
       "      <th>alias</th>\n",
       "      <th>name</th>\n",
       "      <th>image_url</th>\n",
       "      <th>is_closed</th>\n",
       "      <th>url</th>\n",
       "      <th>review_count</th>\n",
       "      <th>categories</th>\n",
       "      <th>rating</th>\n",
       "      <th>coordinates</th>\n",
       "      <th>transactions</th>\n",
       "      <th>price</th>\n",
       "      <th>location</th>\n",
       "      <th>phone</th>\n",
       "      <th>display_phone</th>\n",
       "      <th>distance</th>\n",
       "    </tr>\n",
       "  </thead>\n",
       "  <tbody>\n",
       "    <tr>\n",
       "      <th>0</th>\n",
       "      <td>BPZfuPvSxCfoppU4lPFm0Q</td>\n",
       "      <td>domodomo-new-york-new-york-4</td>\n",
       "      <td>DOMODOMO - New York</td>\n",
       "      <td>https://s3-media1.fl.yelpcdn.com/bphoto/YX89PD...</td>\n",
       "      <td>False</td>\n",
       "      <td>https://www.yelp.com/biz/domodomo-new-york-new...</td>\n",
       "      <td>1462</td>\n",
       "      <td>[{'alias': 'japanese', 'title': 'Japanese'}, {...</td>\n",
       "      <td>4.0</td>\n",
       "      <td>{'latitude': 40.7280299, 'longitude': -74.00167}</td>\n",
       "      <td>[delivery]</td>\n",
       "      <td>$$$</td>\n",
       "      <td>{'address1': '140 W Houston St', 'address2': N...</td>\n",
       "      <td>+16467070301</td>\n",
       "      <td>(646) 707-0301</td>\n",
       "      <td>2584.282555</td>\n",
       "    </tr>\n",
       "    <tr>\n",
       "      <th>1</th>\n",
       "      <td>pNe8ZCkGTe4cXfKdOF7kYQ</td>\n",
       "      <td>ise-restaurant-new-york-3</td>\n",
       "      <td>Ise Restaurant</td>\n",
       "      <td>https://s3-media2.fl.yelpcdn.com/bphoto/S5SGXw...</td>\n",
       "      <td>False</td>\n",
       "      <td>https://www.yelp.com/biz/ise-restaurant-new-yo...</td>\n",
       "      <td>591</td>\n",
       "      <td>[{'alias': 'japanese', 'title': 'Japanese'}, {...</td>\n",
       "      <td>4.5</td>\n",
       "      <td>{'latitude': 40.7291024, 'longitude': -73.9900...</td>\n",
       "      <td>[restaurant_reservation, pickup, delivery]</td>\n",
       "      <td>$$</td>\n",
       "      <td>{'address1': '63 Cooper Sq', 'address2': None,...</td>\n",
       "      <td>+12122284152</td>\n",
       "      <td>(212) 228-4152</td>\n",
       "      <td>2654.657530</td>\n",
       "    </tr>\n",
       "    <tr>\n",
       "      <th>2</th>\n",
       "      <td>pGYovGGnxm0tMmkiQJPygA</td>\n",
       "      <td>ume-williamsburg-brooklyn</td>\n",
       "      <td>Ume Williamsburg</td>\n",
       "      <td>https://s3-media1.fl.yelpcdn.com/bphoto/Xf4Yxw...</td>\n",
       "      <td>False</td>\n",
       "      <td>https://www.yelp.com/biz/ume-williamsburg-broo...</td>\n",
       "      <td>381</td>\n",
       "      <td>[{'alias': 'sushi', 'title': 'Sushi Bars'}]</td>\n",
       "      <td>4.0</td>\n",
       "      <td>{'latitude': 40.71657, 'longitude': -73.96559}</td>\n",
       "      <td>[delivery]</td>\n",
       "      <td>$$$$</td>\n",
       "      <td>{'address1': '237 Kent Ave', 'address2': None,...</td>\n",
       "      <td>+19294203253</td>\n",
       "      <td>(929) 420-3253</td>\n",
       "      <td>2724.422854</td>\n",
       "    </tr>\n",
       "    <tr>\n",
       "      <th>3</th>\n",
       "      <td>pou1-d7PENs6AD4mnt9P4g</td>\n",
       "      <td>sushi-w-new-york</td>\n",
       "      <td>Sushi W</td>\n",
       "      <td>https://s3-media3.fl.yelpcdn.com/bphoto/hxguGJ...</td>\n",
       "      <td>False</td>\n",
       "      <td>https://www.yelp.com/biz/sushi-w-new-york?adju...</td>\n",
       "      <td>112</td>\n",
       "      <td>[{'alias': 'japanese', 'title': 'Japanese'}, {...</td>\n",
       "      <td>4.5</td>\n",
       "      <td>{'latitude': 40.79837, 'longitude': -73.96941}</td>\n",
       "      <td>[]</td>\n",
       "      <td>NaN</td>\n",
       "      <td>{'address1': '2673 Broadway', 'address2': '', ...</td>\n",
       "      <td>+19173189739</td>\n",
       "      <td>(917) 318-9739</td>\n",
       "      <td>10552.517781</td>\n",
       "    </tr>\n",
       "    <tr>\n",
       "      <th>4</th>\n",
       "      <td>PjjpgjY_sdawJU1JHbyNTQ</td>\n",
       "      <td>temakase-new-york</td>\n",
       "      <td>Temakase</td>\n",
       "      <td>https://s3-media3.fl.yelpcdn.com/bphoto/mPHfCH...</td>\n",
       "      <td>False</td>\n",
       "      <td>https://www.yelp.com/biz/temakase-new-york?adj...</td>\n",
       "      <td>511</td>\n",
       "      <td>[{'alias': 'sushi', 'title': 'Sushi Bars'}]</td>\n",
       "      <td>4.5</td>\n",
       "      <td>{'latitude': 40.729711, 'longitude': -73.987127}</td>\n",
       "      <td>[pickup, delivery]</td>\n",
       "      <td>NaN</td>\n",
       "      <td>{'address1': '157 Second Ave', 'address2': Non...</td>\n",
       "      <td>+12123811456</td>\n",
       "      <td>(212) 381-1456</td>\n",
       "      <td>2766.791755</td>\n",
       "    </tr>\n",
       "  </tbody>\n",
       "</table>\n",
       "</div>"
      ],
      "text/plain": [
       "                       id                         alias                 name  \\\n",
       "0  BPZfuPvSxCfoppU4lPFm0Q  domodomo-new-york-new-york-4  DOMODOMO - New York   \n",
       "1  pNe8ZCkGTe4cXfKdOF7kYQ     ise-restaurant-new-york-3       Ise Restaurant   \n",
       "2  pGYovGGnxm0tMmkiQJPygA     ume-williamsburg-brooklyn     Ume Williamsburg   \n",
       "3  pou1-d7PENs6AD4mnt9P4g              sushi-w-new-york              Sushi W   \n",
       "4  PjjpgjY_sdawJU1JHbyNTQ             temakase-new-york             Temakase   \n",
       "\n",
       "                                           image_url  is_closed  \\\n",
       "0  https://s3-media1.fl.yelpcdn.com/bphoto/YX89PD...      False   \n",
       "1  https://s3-media2.fl.yelpcdn.com/bphoto/S5SGXw...      False   \n",
       "2  https://s3-media1.fl.yelpcdn.com/bphoto/Xf4Yxw...      False   \n",
       "3  https://s3-media3.fl.yelpcdn.com/bphoto/hxguGJ...      False   \n",
       "4  https://s3-media3.fl.yelpcdn.com/bphoto/mPHfCH...      False   \n",
       "\n",
       "                                                 url  review_count  \\\n",
       "0  https://www.yelp.com/biz/domodomo-new-york-new...          1462   \n",
       "1  https://www.yelp.com/biz/ise-restaurant-new-yo...           591   \n",
       "2  https://www.yelp.com/biz/ume-williamsburg-broo...           381   \n",
       "3  https://www.yelp.com/biz/sushi-w-new-york?adju...           112   \n",
       "4  https://www.yelp.com/biz/temakase-new-york?adj...           511   \n",
       "\n",
       "                                          categories  rating  \\\n",
       "0  [{'alias': 'japanese', 'title': 'Japanese'}, {...     4.0   \n",
       "1  [{'alias': 'japanese', 'title': 'Japanese'}, {...     4.5   \n",
       "2        [{'alias': 'sushi', 'title': 'Sushi Bars'}]     4.0   \n",
       "3  [{'alias': 'japanese', 'title': 'Japanese'}, {...     4.5   \n",
       "4        [{'alias': 'sushi', 'title': 'Sushi Bars'}]     4.5   \n",
       "\n",
       "                                         coordinates  \\\n",
       "0   {'latitude': 40.7280299, 'longitude': -74.00167}   \n",
       "1  {'latitude': 40.7291024, 'longitude': -73.9900...   \n",
       "2     {'latitude': 40.71657, 'longitude': -73.96559}   \n",
       "3     {'latitude': 40.79837, 'longitude': -73.96941}   \n",
       "4   {'latitude': 40.729711, 'longitude': -73.987127}   \n",
       "\n",
       "                                 transactions price  \\\n",
       "0                                  [delivery]   $$$   \n",
       "1  [restaurant_reservation, pickup, delivery]    $$   \n",
       "2                                  [delivery]  $$$$   \n",
       "3                                          []   NaN   \n",
       "4                          [pickup, delivery]   NaN   \n",
       "\n",
       "                                            location         phone  \\\n",
       "0  {'address1': '140 W Houston St', 'address2': N...  +16467070301   \n",
       "1  {'address1': '63 Cooper Sq', 'address2': None,...  +12122284152   \n",
       "2  {'address1': '237 Kent Ave', 'address2': None,...  +19294203253   \n",
       "3  {'address1': '2673 Broadway', 'address2': '', ...  +19173189739   \n",
       "4  {'address1': '157 Second Ave', 'address2': Non...  +12123811456   \n",
       "\n",
       "    display_phone      distance  \n",
       "0  (646) 707-0301   2584.282555  \n",
       "1  (212) 228-4152   2654.657530  \n",
       "2  (929) 420-3253   2724.422854  \n",
       "3  (917) 318-9739  10552.517781  \n",
       "4  (212) 381-1456   2766.791755  "
      ]
     },
     "metadata": {},
     "output_type": "display_data"
    },
    {
     "data": {
      "text/html": [
       "<div>\n",
       "<style scoped>\n",
       "    .dataframe tbody tr th:only-of-type {\n",
       "        vertical-align: middle;\n",
       "    }\n",
       "\n",
       "    .dataframe tbody tr th {\n",
       "        vertical-align: top;\n",
       "    }\n",
       "\n",
       "    .dataframe thead th {\n",
       "        text-align: right;\n",
       "    }\n",
       "</style>\n",
       "<table border=\"1\" class=\"dataframe\">\n",
       "  <thead>\n",
       "    <tr style=\"text-align: right;\">\n",
       "      <th></th>\n",
       "      <th>id</th>\n",
       "      <th>alias</th>\n",
       "      <th>name</th>\n",
       "      <th>image_url</th>\n",
       "      <th>is_closed</th>\n",
       "      <th>url</th>\n",
       "      <th>review_count</th>\n",
       "      <th>categories</th>\n",
       "      <th>rating</th>\n",
       "      <th>coordinates</th>\n",
       "      <th>transactions</th>\n",
       "      <th>price</th>\n",
       "      <th>location</th>\n",
       "      <th>phone</th>\n",
       "      <th>display_phone</th>\n",
       "      <th>distance</th>\n",
       "    </tr>\n",
       "  </thead>\n",
       "  <tbody>\n",
       "    <tr>\n",
       "      <th>995</th>\n",
       "      <td>5NZK0ImHGPmSLVyjCYaNPA</td>\n",
       "      <td>sushi-you-bloomfield</td>\n",
       "      <td>Sushi You</td>\n",
       "      <td>https://s3-media1.fl.yelpcdn.com/bphoto/bVCCcw...</td>\n",
       "      <td>False</td>\n",
       "      <td>https://www.yelp.com/biz/sushi-you-bloomfield?...</td>\n",
       "      <td>184</td>\n",
       "      <td>[{'alias': 'japanese', 'title': 'Japanese'}, {...</td>\n",
       "      <td>4.0</td>\n",
       "      <td>{'latitude': 40.83662, 'longitude': -74.1641413}</td>\n",
       "      <td>[pickup, delivery]</td>\n",
       "      <td>$$</td>\n",
       "      <td>{'address1': '397 W Passaic Ave', 'address2': ...</td>\n",
       "      <td>+19733380899</td>\n",
       "      <td>(973) 338-0899</td>\n",
       "      <td>20413.223089</td>\n",
       "    </tr>\n",
       "    <tr>\n",
       "      <th>996</th>\n",
       "      <td>TuoXbiDqhFBJiyAXpcOLuA</td>\n",
       "      <td>genji-sushi-kano-new-york</td>\n",
       "      <td>Genji Sushi Kano</td>\n",
       "      <td>https://s3-media1.fl.yelpcdn.com/bphoto/o4eOJo...</td>\n",
       "      <td>False</td>\n",
       "      <td>https://www.yelp.com/biz/genji-sushi-kano-new-...</td>\n",
       "      <td>9</td>\n",
       "      <td>[{'alias': 'sushi', 'title': 'Sushi Bars'}, {'...</td>\n",
       "      <td>3.5</td>\n",
       "      <td>{'latitude': 40.75465, 'longitude': -73.98476}</td>\n",
       "      <td>[]</td>\n",
       "      <td>$$</td>\n",
       "      <td>{'address1': '1095 6th Ave', 'address2': None,...</td>\n",
       "      <td>+19177285700</td>\n",
       "      <td>(917) 728-5700</td>\n",
       "      <td>5536.142601</td>\n",
       "    </tr>\n",
       "    <tr>\n",
       "      <th>997</th>\n",
       "      <td>ZSzJiWKmcf2KSgx1_MN0lg</td>\n",
       "      <td>chakra-japanese-fusion-flushing-2</td>\n",
       "      <td>Chakra Japanese Fusion</td>\n",
       "      <td>https://s3-media4.fl.yelpcdn.com/bphoto/Rq-jMm...</td>\n",
       "      <td>False</td>\n",
       "      <td>https://www.yelp.com/biz/chakra-japanese-fusio...</td>\n",
       "      <td>59</td>\n",
       "      <td>[{'alias': 'bubbletea', 'title': 'Bubble Tea'}...</td>\n",
       "      <td>4.0</td>\n",
       "      <td>{'latitude': 40.743631, 'longitude': -73.825962}</td>\n",
       "      <td>[restaurant_reservation, pickup, delivery]</td>\n",
       "      <td>$$</td>\n",
       "      <td>{'address1': '59-08 Main St', 'address2': None...</td>\n",
       "      <td>+17187990793</td>\n",
       "      <td>(718) 799-0793</td>\n",
       "      <td>14809.353237</td>\n",
       "    </tr>\n",
       "    <tr>\n",
       "      <th>998</th>\n",
       "      <td>dC2VDnFveu7JPNY_X9NvxQ</td>\n",
       "      <td>poke-bowl-new-york-13</td>\n",
       "      <td>Poke Bowl</td>\n",
       "      <td>https://s3-media4.fl.yelpcdn.com/bphoto/Ln5S5L...</td>\n",
       "      <td>False</td>\n",
       "      <td>https://www.yelp.com/biz/poke-bowl-new-york-13...</td>\n",
       "      <td>56</td>\n",
       "      <td>[{'alias': 'hawaiian', 'title': 'Hawaiian'}, {...</td>\n",
       "      <td>4.0</td>\n",
       "      <td>{'latitude': 40.7372124400428, 'longitude': -7...</td>\n",
       "      <td>[pickup, delivery]</td>\n",
       "      <td>NaN</td>\n",
       "      <td>{'address1': '26 East 17th St', 'address2': No...</td>\n",
       "      <td></td>\n",
       "      <td></td>\n",
       "      <td>3548.510782</td>\n",
       "    </tr>\n",
       "    <tr>\n",
       "      <th>999</th>\n",
       "      <td>BXCkH12ezgebuMRnW-6Ung</td>\n",
       "      <td>las-vegas-sushi-fort-lee</td>\n",
       "      <td>Las Vegas Sushi</td>\n",
       "      <td>https://s3-media1.fl.yelpcdn.com/bphoto/BgB81P...</td>\n",
       "      <td>False</td>\n",
       "      <td>https://www.yelp.com/biz/las-vegas-sushi-fort-...</td>\n",
       "      <td>195</td>\n",
       "      <td>[{'alias': 'japanese', 'title': 'Japanese'}, {...</td>\n",
       "      <td>4.0</td>\n",
       "      <td>{'latitude': 40.85319496760645, 'longitude': -...</td>\n",
       "      <td>[pickup, delivery]</td>\n",
       "      <td>$$$</td>\n",
       "      <td>{'address1': '1475 Bergen Blvd', 'address2': '...</td>\n",
       "      <td>+12014820870</td>\n",
       "      <td>(201) 482-0870</td>\n",
       "      <td>16445.151868</td>\n",
       "    </tr>\n",
       "  </tbody>\n",
       "</table>\n",
       "</div>"
      ],
      "text/plain": [
       "                         id                              alias  \\\n",
       "995  5NZK0ImHGPmSLVyjCYaNPA               sushi-you-bloomfield   \n",
       "996  TuoXbiDqhFBJiyAXpcOLuA          genji-sushi-kano-new-york   \n",
       "997  ZSzJiWKmcf2KSgx1_MN0lg  chakra-japanese-fusion-flushing-2   \n",
       "998  dC2VDnFveu7JPNY_X9NvxQ              poke-bowl-new-york-13   \n",
       "999  BXCkH12ezgebuMRnW-6Ung           las-vegas-sushi-fort-lee   \n",
       "\n",
       "                       name  \\\n",
       "995               Sushi You   \n",
       "996        Genji Sushi Kano   \n",
       "997  Chakra Japanese Fusion   \n",
       "998               Poke Bowl   \n",
       "999         Las Vegas Sushi   \n",
       "\n",
       "                                             image_url  is_closed  \\\n",
       "995  https://s3-media1.fl.yelpcdn.com/bphoto/bVCCcw...      False   \n",
       "996  https://s3-media1.fl.yelpcdn.com/bphoto/o4eOJo...      False   \n",
       "997  https://s3-media4.fl.yelpcdn.com/bphoto/Rq-jMm...      False   \n",
       "998  https://s3-media4.fl.yelpcdn.com/bphoto/Ln5S5L...      False   \n",
       "999  https://s3-media1.fl.yelpcdn.com/bphoto/BgB81P...      False   \n",
       "\n",
       "                                                   url  review_count  \\\n",
       "995  https://www.yelp.com/biz/sushi-you-bloomfield?...           184   \n",
       "996  https://www.yelp.com/biz/genji-sushi-kano-new-...             9   \n",
       "997  https://www.yelp.com/biz/chakra-japanese-fusio...            59   \n",
       "998  https://www.yelp.com/biz/poke-bowl-new-york-13...            56   \n",
       "999  https://www.yelp.com/biz/las-vegas-sushi-fort-...           195   \n",
       "\n",
       "                                            categories  rating  \\\n",
       "995  [{'alias': 'japanese', 'title': 'Japanese'}, {...     4.0   \n",
       "996  [{'alias': 'sushi', 'title': 'Sushi Bars'}, {'...     3.5   \n",
       "997  [{'alias': 'bubbletea', 'title': 'Bubble Tea'}...     4.0   \n",
       "998  [{'alias': 'hawaiian', 'title': 'Hawaiian'}, {...     4.0   \n",
       "999  [{'alias': 'japanese', 'title': 'Japanese'}, {...     4.0   \n",
       "\n",
       "                                           coordinates  \\\n",
       "995   {'latitude': 40.83662, 'longitude': -74.1641413}   \n",
       "996     {'latitude': 40.75465, 'longitude': -73.98476}   \n",
       "997   {'latitude': 40.743631, 'longitude': -73.825962}   \n",
       "998  {'latitude': 40.7372124400428, 'longitude': -7...   \n",
       "999  {'latitude': 40.85319496760645, 'longitude': -...   \n",
       "\n",
       "                                   transactions price  \\\n",
       "995                          [pickup, delivery]    $$   \n",
       "996                                          []    $$   \n",
       "997  [restaurant_reservation, pickup, delivery]    $$   \n",
       "998                          [pickup, delivery]   NaN   \n",
       "999                          [pickup, delivery]   $$$   \n",
       "\n",
       "                                              location         phone  \\\n",
       "995  {'address1': '397 W Passaic Ave', 'address2': ...  +19733380899   \n",
       "996  {'address1': '1095 6th Ave', 'address2': None,...  +19177285700   \n",
       "997  {'address1': '59-08 Main St', 'address2': None...  +17187990793   \n",
       "998  {'address1': '26 East 17th St', 'address2': No...                 \n",
       "999  {'address1': '1475 Bergen Blvd', 'address2': '...  +12014820870   \n",
       "\n",
       "      display_phone      distance  \n",
       "995  (973) 338-0899  20413.223089  \n",
       "996  (917) 728-5700   5536.142601  \n",
       "997  (718) 799-0793  14809.353237  \n",
       "998                   3548.510782  \n",
       "999  (201) 482-0870  16445.151868  "
      ]
     },
     "metadata": {},
     "output_type": "display_data"
    }
   ],
   "source": [
    "# load final results\n",
    "final_df = pd.read_json(JSON_FILE)\n",
    "display(final_df.head(), final_df.tail())"
   ]
  },
  {
   "cell_type": "code",
   "execution_count": null,
   "id": "1471dbd6",
   "metadata": {},
   "outputs": [],
   "source": []
  },
  {
   "cell_type": "code",
   "execution_count": null,
   "id": "64d8425b",
   "metadata": {},
   "outputs": [],
   "source": []
  },
  {
   "cell_type": "code",
   "execution_count": null,
   "id": "278ee5bd",
   "metadata": {},
   "outputs": [],
   "source": []
  },
  {
   "cell_type": "code",
   "execution_count": null,
   "id": "eb53f7d2",
   "metadata": {},
   "outputs": [],
   "source": []
  },
  {
   "cell_type": "code",
   "execution_count": null,
   "id": "d2df65dd",
   "metadata": {},
   "outputs": [],
   "source": []
  },
  {
   "cell_type": "code",
   "execution_count": null,
   "id": "13ce3e7d",
   "metadata": {},
   "outputs": [],
   "source": []
  },
  {
   "cell_type": "code",
   "execution_count": null,
   "id": "b7efd418",
   "metadata": {},
   "outputs": [],
   "source": []
  },
  {
   "cell_type": "code",
   "execution_count": null,
   "id": "d4602804",
   "metadata": {},
   "outputs": [],
   "source": []
  },
  {
   "cell_type": "code",
   "execution_count": null,
   "id": "4d8f6166",
   "metadata": {},
   "outputs": [],
   "source": []
  },
  {
   "cell_type": "code",
   "execution_count": null,
   "id": "c12a3e4c",
   "metadata": {},
   "outputs": [],
   "source": []
  }
 ],
 "metadata": {
  "kernelspec": {
   "display_name": "Python (dojo-env)",
   "language": "python",
   "name": "dojo-env"
  },
  "language_info": {
   "codemirror_mode": {
    "name": "ipython",
    "version": 3
   },
   "file_extension": ".py",
   "mimetype": "text/x-python",
   "name": "python",
   "nbconvert_exporter": "python",
   "pygments_lexer": "ipython3",
   "version": "3.8.13"
  },
  "toc": {
   "base_numbering": 1,
   "nav_menu": {},
   "number_sections": false,
   "sideBar": true,
   "skip_h1_title": false,
   "title_cell": "Table of Contents",
   "title_sidebar": "Contents",
   "toc_cell": false,
   "toc_position": {},
   "toc_section_display": true,
   "toc_window_display": false
  }
 },
 "nbformat": 4,
 "nbformat_minor": 5
}
